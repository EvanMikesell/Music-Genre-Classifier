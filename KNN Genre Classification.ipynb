{
 "cells": [
  {
   "cell_type": "code",
   "execution_count": 2,
   "id": "5b7f2484-74d1-484c-96b2-9d694e33a96c",
   "metadata": {},
   "outputs": [],
   "source": [
    "import json\n",
    "import os\n",
    "import math\n",
    "import librosa\n",
    "import numpy as np\n",
    "from sklearn.neighbors import KNeighborsClassifier\n",
    "from sklearn.model_selection import train_test_split\n",
    "from sklearn.metrics import accuracy_score\n",
    "from sklearn.preprocessing import StandardScaler"
   ]
  },
  {
   "cell_type": "code",
   "execution_count": 3,
   "id": "c7f93272-3c18-4ef0-ba12-b8bc37e99732",
   "metadata": {},
   "outputs": [],
   "source": [
    "audio_dir = \"./Data/genres_original\""
   ]
  },
  {
   "cell_type": "code",
   "execution_count": 4,
   "id": "1153c8de-7480-4452-9afd-39d6ea755bb3",
   "metadata": {},
   "outputs": [],
   "source": [
    "def get_mfcc(file_path, sample_rate=22050, n_mfcc=13, n_fft=2048, hop_length=512):\n",
    "    y, sr = librosa.load(file_path, sr=sample_rate)\n",
    "    mfcc = librosa.feature.mfcc(y=y, sr=sr, n_mfcc=n_mfcc, n_fft=n_fft, hop_length=hop_length).T\n",
    "    mfcc_mean = np.mean(mfcc, axis=0)\n",
    "    feature_vector = np.array(mfcc_mean)\n",
    "    return feature_vector\n",
    "\n",
    "\n",
    "def process_data(dataset_path):\n",
    "    X = []\n",
    "    y = []\n",
    "\n",
    "    for folder in os.listdir(dataset_path):\n",
    "        print(\"Processing: \" + folder)  \n",
    "        for file in os.listdir(dataset_path+ \"/\" + folder):\n",
    "            file_path = dataset_path + \"/\" + folder + \"/\" + file\n",
    "            feature_vector = get_mfcc(file_path)\n",
    "            X.append(feature_vector)\n",
    "            y.append(folder)\n",
    "                  \n",
    "    return np.array(X), np.array(y)    "
   ]
  },
  {
   "cell_type": "code",
   "execution_count": 5,
   "id": "ea86f47e-48a6-4b96-a1ce-b20964ba7265",
   "metadata": {},
   "outputs": [
    {
     "name": "stdout",
     "output_type": "stream",
     "text": [
      "Processing: blues\n",
      "Processing: classical\n",
      "Processing: country\n",
      "Processing: disco\n",
      "Processing: hiphop\n",
      "Processing: jazz\n",
      "Processing: metal\n",
      "Processing: pop\n",
      "Processing: reggae\n",
      "Processing: rock\n"
     ]
    }
   ],
   "source": [
    "# process data\n",
    "X, y = process_data(audio_dir)"
   ]
  },
  {
   "cell_type": "code",
   "execution_count": 6,
   "id": "6251395e-25f4-4628-9792-39c0a46e60ba",
   "metadata": {},
   "outputs": [],
   "source": [
    "# create train/test split\n",
    "X_train, X_test, y_train, y_test = train_test_split(X, y, test_size=0.2)\n",
    "\n",
    "# normalize the data\n",
    "scaler = StandardScaler()\n",
    "X_train = scaler.fit_transform(X_train)\n",
    "X_test = scaler.transform(X_test)"
   ]
  },
  {
   "cell_type": "code",
   "execution_count": 7,
   "id": "266e1104-8359-4cee-b0e2-8fec521f0d8f",
   "metadata": {},
   "outputs": [
    {
     "name": "stdout",
     "output_type": "stream",
     "text": [
      "k = 1 Accuracy: 0.525\n",
      "k = 2 Accuracy: 0.52\n",
      "k = 3 Accuracy: 0.53\n",
      "k = 4 Accuracy: 0.555\n",
      "k = 5 Accuracy: 0.54\n",
      "k = 6 Accuracy: 0.56\n",
      "k = 7 Accuracy: 0.585\n",
      "k = 8 Accuracy: 0.565\n",
      "k = 9 Accuracy: 0.58\n",
      "k = 10 Accuracy: 0.575\n",
      "k = 11 Accuracy: 0.56\n",
      "k = 12 Accuracy: 0.53\n",
      "k = 13 Accuracy: 0.56\n",
      "k = 14 Accuracy: 0.56\n",
      "k = 15 Accuracy: 0.56\n",
      "k = 16 Accuracy: 0.575\n",
      "k = 17 Accuracy: 0.56\n",
      "k = 18 Accuracy: 0.555\n",
      "k = 19 Accuracy: 0.56\n",
      "k = 20 Accuracy: 0.56\n",
      "k = 21 Accuracy: 0.56\n",
      "k = 22 Accuracy: 0.565\n",
      "k = 23 Accuracy: 0.55\n",
      "k = 24 Accuracy: 0.53\n",
      "k = 25 Accuracy: 0.52\n",
      "k = 26 Accuracy: 0.535\n",
      "k = 27 Accuracy: 0.535\n",
      "k = 28 Accuracy: 0.535\n",
      "k = 29 Accuracy: 0.54\n",
      "Best k value (number of neighbors) for our model is: 7\n",
      "Best accuracy our model gives is: 0.585\n"
     ]
    }
   ],
   "source": [
    "# train the KNN model\n",
    "# testing at different k values\n",
    "from warnings import simplefilter\n",
    "simplefilter(action='ignore', category=FutureWarning)\n",
    "\n",
    "best_accuracy = 0\n",
    "best_k = 0\n",
    "for k in range(1, 30):\n",
    "    knn = KNeighborsClassifier(n_neighbors=k)\n",
    "    knn.fit(X_train, y_train)\n",
    "    y_pred = knn.predict(X_test)\n",
    "    accuracy = accuracy_score(y_test, y_pred)\n",
    "    print(\"k =\", k, \"Accuracy:\", accuracy)\n",
    "    if accuracy > best_accuracy:\n",
    "        best_k = k\n",
    "        best_accuracy = accuracy\n",
    "\n",
    "print(\"Best k value (number of neighbors) for our model is:\", best_k)\n",
    "print(\"Best accuracy our model gives is:\", best_accuracy)"
   ]
  },
  {
   "cell_type": "code",
   "execution_count": null,
   "id": "40573aee-baf0-4d8c-ba7f-5c3c26bde7be",
   "metadata": {},
   "outputs": [],
   "source": []
  }
 ],
 "metadata": {
  "kernelspec": {
   "display_name": "Python 3 (ipykernel)",
   "language": "python",
   "name": "python3"
  },
  "language_info": {
   "codemirror_mode": {
    "name": "ipython",
    "version": 3
   },
   "file_extension": ".py",
   "mimetype": "text/x-python",
   "name": "python",
   "nbconvert_exporter": "python",
   "pygments_lexer": "ipython3",
   "version": "3.9.13"
  }
 },
 "nbformat": 4,
 "nbformat_minor": 5
}
